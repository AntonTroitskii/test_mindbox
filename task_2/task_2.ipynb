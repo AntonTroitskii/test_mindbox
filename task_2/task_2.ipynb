{
 "cells": [
  {
   "cell_type": "code",
   "execution_count": 2,
   "id": "cec0399c",
   "metadata": {},
   "outputs": [],
   "source": [
    "from pyspark.sql import SparkSession\n",
    "import random\n",
    "import os\n",
    "\n",
    "os.environ['PYSPARK_PYTHON'] = 'python'\n",
    "spark = SparkSession.builder.appName(\"ProductCategoryExample\").getOrCreate()\n",
    "n_products = 100\n",
    "n_categories = 11\n",
    "\n",
    "# Генерация продуктов (1000 шт.)\n",
    "products = [(i, f\"Product_{i}\") for i in range(1, n_products)]\n",
    "df_products = spark.createDataFrame(products, [\"product_id\", \"product_name\"])\n",
    "\n",
    "# Генерация категорий (100 шт.)\n",
    "categories = [(i, f\"Category_{i}\") for i in range(1, n_categories)]\n",
    "df_categories = spark.createDataFrame(categories, [\"category_id\", \"category_name\"])\n",
    "\n",
    "# Генерация связей (произвольное количество)\n",
    "random.seed(42)\n",
    "links = []\n",
    "for product_id in range(1, n_products):\n",
    "    num_categories = random.randint(0, 5)  # от 0 до 5 категорий на продукт\n",
    "    chosen_categories = random.sample(range(1, n_categories), num_categories)\n",
    "    for cat_id in chosen_categories:\n",
    "        links.append((product_id, cat_id))\n",
    "\n",
    "df_links = spark.createDataFrame(links, [\"product_id\", \"category_id\"])"
   ]
  },
  {
   "cell_type": "code",
   "execution_count": 3,
   "id": "9c4fff95",
   "metadata": {},
   "outputs": [
    {
     "name": "stdout",
     "output_type": "stream",
     "text": [
      "+----------+------------+\n",
      "|product_id|product_name|\n",
      "+----------+------------+\n",
      "|         1|   Product_1|\n",
      "|         2|   Product_2|\n",
      "|         3|   Product_3|\n",
      "|         4|   Product_4|\n",
      "|         5|   Product_5|\n",
      "|         6|   Product_6|\n",
      "|         7|   Product_7|\n",
      "|         8|   Product_8|\n",
      "|         9|   Product_9|\n",
      "|        10|  Product_10|\n",
      "|        11|  Product_11|\n",
      "|        12|  Product_12|\n",
      "|        13|  Product_13|\n",
      "|        14|  Product_14|\n",
      "|        15|  Product_15|\n",
      "|        16|  Product_16|\n",
      "|        17|  Product_17|\n",
      "|        18|  Product_18|\n",
      "|        19|  Product_19|\n",
      "|        20|  Product_20|\n",
      "+----------+------------+\n",
      "only showing top 20 rows\n"
     ]
    }
   ],
   "source": [
    "df_products.show(20)"
   ]
  },
  {
   "cell_type": "code",
   "execution_count": 4,
   "id": "9729fc25",
   "metadata": {},
   "outputs": [
    {
     "name": "stdout",
     "output_type": "stream",
     "text": [
      "+-----------+-------------+\n",
      "|category_id|category_name|\n",
      "+-----------+-------------+\n",
      "|          1|   Category_1|\n",
      "|          2|   Category_2|\n",
      "|          3|   Category_3|\n",
      "|          4|   Category_4|\n",
      "|          5|   Category_5|\n",
      "|          6|   Category_6|\n",
      "|          7|   Category_7|\n",
      "|          8|   Category_8|\n",
      "|          9|   Category_9|\n",
      "|         10|  Category_10|\n",
      "+-----------+-------------+\n",
      "\n"
     ]
    }
   ],
   "source": [
    "df_categories.show()"
   ]
  },
  {
   "cell_type": "code",
   "execution_count": 5,
   "id": "90dc3aab",
   "metadata": {},
   "outputs": [
    {
     "name": "stdout",
     "output_type": "stream",
     "text": [
      "+----------+-----------+\n",
      "|product_id|category_id|\n",
      "+----------+-----------+\n",
      "|         1|          2|\n",
      "|         1|          1|\n",
      "|         1|          5|\n",
      "|         1|         10|\n",
      "|         1|          7|\n",
      "|         2|          2|\n",
      "|         3|          9|\n",
      "|         3|          2|\n",
      "|         3|          7|\n",
      "|         3|          1|\n",
      "|         3|          8|\n",
      "|         5|          4|\n",
      "|         6|         10|\n",
      "|         6|          1|\n",
      "|         6|          4|\n",
      "|         6|          6|\n",
      "|         7|          9|\n",
      "|         7|          7|\n",
      "|         7|          4|\n",
      "|         7|          8|\n",
      "|         7|          5|\n",
      "|         8|          1|\n",
      "|         8|          3|\n",
      "|         9|          7|\n",
      "|         9|          6|\n",
      "|         9|          5|\n",
      "|         9|          2|\n",
      "|         9|         10|\n",
      "|        10|          2|\n",
      "|        10|         10|\n",
      "|        11|          2|\n",
      "|        11|          6|\n",
      "|        11|          9|\n",
      "|        12|          5|\n",
      "|        12|          1|\n",
      "|        12|          8|\n",
      "|        12|         10|\n",
      "|        14|          2|\n",
      "|        14|          9|\n",
      "|        14|          5|\n",
      "|        15|         10|\n",
      "|        15|          6|\n",
      "|        15|          4|\n",
      "|        15|          9|\n",
      "|        15|          1|\n",
      "|        17|          4|\n",
      "|        17|          5|\n",
      "|        17|          2|\n",
      "|        17|          7|\n",
      "|        17|          8|\n",
      "+----------+-----------+\n",
      "only showing top 50 rows\n"
     ]
    }
   ],
   "source": [
    "df_links.show(50)"
   ]
  },
  {
   "cell_type": "code",
   "execution_count": 6,
   "id": "76e9b5fd",
   "metadata": {},
   "outputs": [
    {
     "name": "stdout",
     "output_type": "stream",
     "text": [
      "+----------+------------+\n",
      "|product_id|product_name|\n",
      "+----------+------------+\n",
      "|         4|   Product_4|\n",
      "|        13|  Product_13|\n",
      "|        16|  Product_16|\n",
      "|        18|  Product_18|\n",
      "|        26|  Product_26|\n",
      "|        34|  Product_34|\n",
      "|        45|  Product_45|\n",
      "|        47|  Product_47|\n",
      "|        50|  Product_50|\n",
      "|        49|  Product_49|\n",
      "|        57|  Product_57|\n",
      "|        63|  Product_63|\n",
      "|        61|  Product_61|\n",
      "|        67|  Product_67|\n",
      "|        79|  Product_79|\n",
      "|        74|  Product_74|\n",
      "|        87|  Product_87|\n",
      "|        81|  Product_81|\n",
      "|        96|  Product_96|\n",
      "|        90|  Product_90|\n",
      "+----------+------------+\n",
      "\n"
     ]
    }
   ],
   "source": [
    "df_products.join(df_links, on=\"product_id\", how=\"left_anti\").show()"
   ]
  },
  {
   "cell_type": "code",
   "execution_count": 7,
   "id": "f3c1e9b4",
   "metadata": {},
   "outputs": [
    {
     "name": "stdout",
     "output_type": "stream",
     "text": [
      "+------------+-------------+\n",
      "|product_name|category_name|\n",
      "+------------+-------------+\n",
      "|   Product_7|   Category_5|\n",
      "|   Product_7|   Category_8|\n",
      "|   Product_7|   Category_4|\n",
      "|   Product_7|   Category_7|\n",
      "|   Product_7|   Category_9|\n",
      "|   Product_6|   Category_6|\n",
      "|   Product_6|   Category_4|\n",
      "|   Product_6|   Category_1|\n",
      "|   Product_6|  Category_10|\n",
      "|   Product_5|   Category_4|\n",
      "|   Product_1|   Category_7|\n",
      "|   Product_1|  Category_10|\n",
      "|   Product_1|   Category_5|\n",
      "|   Product_1|   Category_1|\n",
      "|   Product_1|   Category_2|\n",
      "|   Product_3|   Category_8|\n",
      "|   Product_3|   Category_1|\n",
      "|   Product_3|   Category_7|\n",
      "|   Product_3|   Category_2|\n",
      "|   Product_3|   Category_9|\n",
      "+------------+-------------+\n",
      "only showing top 20 rows\n"
     ]
    }
   ],
   "source": [
    "df_products.join(other=df_links, on='product_id', how='left').join(other=df_categories, on='category_id', how='left').select('product_name', 'category_name').show()"
   ]
  },
  {
   "cell_type": "code",
   "execution_count": 8,
   "id": "4bf2843b",
   "metadata": {},
   "outputs": [
    {
     "name": "stdout",
     "output_type": "stream",
     "text": [
      "+------------+-------------+\n",
      "|product_name|category_name|\n",
      "+------------+-------------+\n",
      "|   Product_7|   Category_5|\n",
      "|   Product_7|   Category_8|\n",
      "|   Product_7|   Category_4|\n",
      "|   Product_7|   Category_7|\n",
      "|   Product_7|   Category_9|\n",
      "|   Product_6|   Category_6|\n",
      "|   Product_6|   Category_4|\n",
      "|   Product_6|   Category_1|\n",
      "|   Product_6|  Category_10|\n",
      "|   Product_5|   Category_4|\n",
      "|   Product_1|   Category_7|\n",
      "|   Product_1|  Category_10|\n",
      "|   Product_1|   Category_5|\n",
      "|   Product_1|   Category_1|\n",
      "|   Product_1|   Category_2|\n",
      "|   Product_3|   Category_8|\n",
      "|   Product_3|   Category_1|\n",
      "|   Product_3|   Category_7|\n",
      "|   Product_3|   Category_2|\n",
      "|   Product_3|   Category_9|\n",
      "+------------+-------------+\n",
      "only showing top 20 rows\n"
     ]
    }
   ],
   "source": [
    "df_products.alias('p').join(other=df_links, on='product_id', how='left').join(other=df_categories, on='category_id', how='left').select('product_name', 'category_name').show()"
   ]
  }
 ],
 "metadata": {
  "kernelspec": {
   "display_name": "2025-06-16_Test._MindBox-xz7ZX7gW",
   "language": "python",
   "name": "python3"
  },
  "language_info": {
   "codemirror_mode": {
    "name": "ipython",
    "version": 3
   },
   "file_extension": ".py",
   "mimetype": "text/x-python",
   "name": "python",
   "nbconvert_exporter": "python",
   "pygments_lexer": "ipython3",
   "version": "3.11.9"
  }
 },
 "nbformat": 4,
 "nbformat_minor": 5
}
